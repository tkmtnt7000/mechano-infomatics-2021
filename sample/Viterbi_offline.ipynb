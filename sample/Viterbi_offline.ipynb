{
 "cells": [
  {
   "cell_type": "code",
   "execution_count": 1,
   "metadata": {},
   "outputs": [
    {
     "ename": "ValueError",
     "evalue": "invalid literal for int() with base 10: '-f'",
     "output_type": "error",
     "traceback": [
      "\u001b[0;31m---------------------------------------------------------------------------\u001b[0m",
      "\u001b[0;31mValueError\u001b[0m                                Traceback (most recent call last)",
      "\u001b[0;32m<ipython-input-1-f2b9c75437ea>\u001b[0m in \u001b[0;36m<module>\u001b[0;34m\u001b[0m\n\u001b[1;32m      5\u001b[0m \u001b[0;32mimport\u001b[0m \u001b[0mrandom\u001b[0m\u001b[0;34m\u001b[0m\u001b[0;34m\u001b[0m\u001b[0m\n\u001b[1;32m      6\u001b[0m \u001b[0;34m\u001b[0m\u001b[0m\n\u001b[0;32m----> 7\u001b[0;31m \u001b[0mnstates\u001b[0m \u001b[0;34m=\u001b[0m \u001b[0;34m[\u001b[0m\u001b[0mint\u001b[0m\u001b[0;34m(\u001b[0m\u001b[0mn\u001b[0m\u001b[0;34m)\u001b[0m \u001b[0;32mfor\u001b[0m \u001b[0mn\u001b[0m \u001b[0;32min\u001b[0m \u001b[0msys\u001b[0m\u001b[0;34m.\u001b[0m\u001b[0margv\u001b[0m\u001b[0;34m[\u001b[0m\u001b[0;36m1\u001b[0m\u001b[0;34m:\u001b[0m\u001b[0;34m:\u001b[0m\u001b[0;34m]\u001b[0m\u001b[0;34m]\u001b[0m\u001b[0;34m\u001b[0m\u001b[0;34m\u001b[0m\u001b[0m\n\u001b[0m\u001b[1;32m      8\u001b[0m \u001b[0mCOST\u001b[0m\u001b[0;34m,\u001b[0m \u001b[0mSTATE\u001b[0m \u001b[0;34m=\u001b[0m \u001b[0mrange\u001b[0m\u001b[0;34m(\u001b[0m\u001b[0;36m2\u001b[0m\u001b[0;34m)\u001b[0m\u001b[0;34m\u001b[0m\u001b[0;34m\u001b[0m\u001b[0m\n\u001b[1;32m      9\u001b[0m \u001b[0mINITIAL\u001b[0m \u001b[0;34m=\u001b[0m \u001b[0;34m(\u001b[0m\u001b[0;36m0\u001b[0m\u001b[0;34m,\u001b[0m \u001b[0;36m0\u001b[0m\u001b[0;34m)\u001b[0m  \u001b[0;31m# (cost, state)\u001b[0m\u001b[0;34m\u001b[0m\u001b[0;34m\u001b[0m\u001b[0m\n",
      "\u001b[0;32m<ipython-input-1-f2b9c75437ea>\u001b[0m in \u001b[0;36m<listcomp>\u001b[0;34m(.0)\u001b[0m\n\u001b[1;32m      5\u001b[0m \u001b[0;32mimport\u001b[0m \u001b[0mrandom\u001b[0m\u001b[0;34m\u001b[0m\u001b[0;34m\u001b[0m\u001b[0m\n\u001b[1;32m      6\u001b[0m \u001b[0;34m\u001b[0m\u001b[0m\n\u001b[0;32m----> 7\u001b[0;31m \u001b[0mnstates\u001b[0m \u001b[0;34m=\u001b[0m \u001b[0;34m[\u001b[0m\u001b[0mint\u001b[0m\u001b[0;34m(\u001b[0m\u001b[0mn\u001b[0m\u001b[0;34m)\u001b[0m \u001b[0;32mfor\u001b[0m \u001b[0mn\u001b[0m \u001b[0;32min\u001b[0m \u001b[0msys\u001b[0m\u001b[0;34m.\u001b[0m\u001b[0margv\u001b[0m\u001b[0;34m[\u001b[0m\u001b[0;36m1\u001b[0m\u001b[0;34m:\u001b[0m\u001b[0;34m:\u001b[0m\u001b[0;34m]\u001b[0m\u001b[0;34m]\u001b[0m\u001b[0;34m\u001b[0m\u001b[0;34m\u001b[0m\u001b[0m\n\u001b[0m\u001b[1;32m      8\u001b[0m \u001b[0mCOST\u001b[0m\u001b[0;34m,\u001b[0m \u001b[0mSTATE\u001b[0m \u001b[0;34m=\u001b[0m \u001b[0mrange\u001b[0m\u001b[0;34m(\u001b[0m\u001b[0;36m2\u001b[0m\u001b[0;34m)\u001b[0m\u001b[0;34m\u001b[0m\u001b[0;34m\u001b[0m\u001b[0m\n\u001b[1;32m      9\u001b[0m \u001b[0mINITIAL\u001b[0m \u001b[0;34m=\u001b[0m \u001b[0;34m(\u001b[0m\u001b[0;36m0\u001b[0m\u001b[0;34m,\u001b[0m \u001b[0;36m0\u001b[0m\u001b[0;34m)\u001b[0m  \u001b[0;31m# (cost, state)\u001b[0m\u001b[0;34m\u001b[0m\u001b[0;34m\u001b[0m\u001b[0m\n",
      "\u001b[0;31mValueError\u001b[0m: invalid literal for int() with base 10: '-f'"
     ]
    }
   ],
   "source": [
    "#!/usr/bin/env python3\n",
    "# -*- coding: utf-8 -*-\n",
    "\n",
    "import sys\n",
    "import random\n",
    "\n",
    "nstates = [int(n) for n in sys.argv[1::]]\n",
    "COST, STATE = range(2)\n",
    "INITIAL = (0, 0)  # (cost, state)\n",
    "\n",
    "def transition(m, n):\n",
    "    return [[random.random() for _ in range(m)] for _ in range(n)]\n",
    "\n",
    "def emission(n):\n",
    "    return [random.random() for _ in range(n)]\n",
    "\n",
    "def update(cost, trans, emiss):\n",
    "    costs = [c[COST]+t for c, t in zip(cost, trans)]\n",
    "    min_cost = min(costs)\n",
    "    return min_cost + emiss, costs.index(min_cost)\n",
    "\n",
    "def decodePath(trellis, lastState):\n",
    "    state = lastState\n",
    "    path_reversed = [state]\n",
    "    for rtr in reversed(trellis):\n",
    "        state = rtr[state][STATE]\n",
    "        path_reversed.append(state)\n",
    "    return list(reversed(path_reversed))\n",
    "\n",
    "### main ###\n",
    "n_prev = 1\n",
    "trellis = []\n",
    "cost = [INITIAL]\n",
    "for i, n in enumerate(nstates):\n",
    "    e = emission(n)\n",
    "    m = transition(n_prev, n)\n",
    "    n_prev = n\n",
    "    cost = [update(cost, t, f) for t, f in zip(m, e)]\n",
    "    trellis.append(cost)\n",
    "    print(f'{i}. transition:', [c[STATE] for c in cost])\n",
    "\n",
    "if nstates[-1] == 1:\n",
    "    state_last = 0\n",
    "else:\n",
    "    cost_last = [w[COST] for w in trellis[-1]]\n",
    "    state_last = cost_last.index(min(cost_last))\n",
    "    print(\"last costs =\", [round(c,2) for c in cost_last])\n",
    "path = decodePath(trellis, state_last)\n",
    "print(f'minimum_cost_path = {path[1:]}')\n",
    "exit(0)"
   ]
  },
  {
   "cell_type": "code",
   "execution_count": 3,
   "metadata": {},
   "outputs": [
    {
     "name": "stdout",
     "output_type": "stream",
     "text": [
      "('walk', 'shop', 'clean', 'shop', 'walk')\n",
      "['sunny', 'rainy', 'rainy', 'rainy', 'sunny']\n",
      "0.000677376\n"
     ]
    }
   ],
   "source": [
    "# -*- coding:utf-8 -*-\n",
    "\n",
    "states = (\"rainy\",\"sunny\")\n",
    "observations = (\"walk\",\"shop\",\"clean\",\"shop\",\"walk\")\n",
    "start_prob = {\"rainy\":0.6,\"sunny\":0.4}\n",
    "transit_prob = {\"rainy\":{\"rainy\":0.7,\"sunny\":0.3},\n",
    "                \"sunny\":{\"rainy\":0.4,\"sunny\":0.6}}\n",
    "emission_prob = {'rainy' : {'walk': 0.1, 'shop': 0.4, 'clean': 0.5},\n",
    "                 'sunny' : {'walk': 0.6, 'shop': 0.3, 'clean': 0.1}}\n",
    "\n",
    "def viterbi(observs,states,sp,tp,ep):\n",
    "    \"\"\"viterbi algorithm\n",
    "    Output : labels estimated\"\"\"\n",
    "    T = {} # present state\n",
    "    for st in states:\n",
    "        T[st] = (sp[st]*ep[st][observs[0]],[st])\n",
    "    for ob in observs[1:]:\n",
    "        T = next_state(ob,states,T,tp,ep)\n",
    "    prob,labels = max([T[st] for st in T])\n",
    "    return prob,labels\n",
    "\n",
    "\n",
    "def next_state(ob,states,T,tp,ep):\n",
    "    \"\"\"calculate a next state's probability, and get a next path\"\"\"\n",
    "    U = {} # next state\n",
    "    for next_s in states:\n",
    "        U[next_s] = (0,[])\n",
    "        for now_s in states:\n",
    "            p = T[now_s][0] * tp[now_s][next_s] * ep[next_s][ob]\n",
    "            if p>U[next_s][0]:\n",
    "                U[next_s] = [p,T[now_s][1]+[next_s]]\n",
    "    return U\n",
    "\n",
    "if __name__==\"__main__\":\n",
    "    print(observations)\n",
    "    a,b = viterbi(observations,states,\n",
    "                  start_prob,transit_prob,emission_prob)\n",
    "    print(b)\n",
    "    print(a)"
   ]
  },
  {
   "cell_type": "code",
   "execution_count": null,
   "metadata": {},
   "outputs": [],
   "source": []
  }
 ],
 "metadata": {
  "kernelspec": {
   "display_name": "Python 3",
   "language": "python",
   "name": "python3"
  },
  "language_info": {
   "codemirror_mode": {
    "name": "ipython",
    "version": 3
   },
   "file_extension": ".py",
   "mimetype": "text/x-python",
   "name": "python",
   "nbconvert_exporter": "python",
   "pygments_lexer": "ipython3",
   "version": "3.8.3"
  }
 },
 "nbformat": 4,
 "nbformat_minor": 4
}
